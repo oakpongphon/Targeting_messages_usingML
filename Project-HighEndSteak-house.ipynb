{
 "cells": [
  {
   "cell_type": "markdown",
   "metadata": {},
   "source": [
    "# Tuango: Steak-house project"
   ]
  },
  {
   "cell_type": "markdown",
   "metadata": {},
   "source": [
    "You have been hired by Susan Liu, chief Data Scientist at Tuango, as part of the analytics team. Tuango’s business model is similar to that of Groupon, promoting discounted gift certificates that can be used at local or national retailers.\n",
    "\n",
    "After the success of the Karaoke project the analytics team has been tasked to run and evaluate a new deal for a major high-end steak house. The negotiations with the steak-house were rather difficult. The average price per meal at the restaurant is 600 RMB but Tuango had only been able to negotiate a 25% commission. Susan told you to assume 12 RMB as the cost for each SMS sent to a customer.\n",
    "\n",
    "For an upcoming meeting with Susan Liu and the CEO of Tuango you were asked to estimate a logistic regression model. The available data has information on customers in a training sample and a test sample. The model estimation completed on time and you are feeling very confident about the meeting. However, the evening before the meeting Susan asks your team to add the following analyses: \n",
    "\n",
    "1. Estimate a Neural Network with 1 node in 1 hidden layer and regularization of 0.5 (5 points). Use `tanh` and `lbfgs`.</br>\n",
    "2. Estimate a Random Forest with 100 trees with 1 feature sampled for consideration for each node split (5 points)</br>\n",
    "3. Evaluate model performance (profit and ROME) for each of the 3 models to ensure there is no over-fitting using a gains chart (10 points)</br> \n",
    "\n",
    "A co-worker told you not to worry because he would run the required analyses on the morning of the meeting. However, he had FAR too much fun at a Karaoke bar the night before and so it is now up to you to add the additional analyses and save the meeting! You have access to a Jupyter notebook file (q3-tuango-shouse.ipynb) that loads the data and generates a report for the logistic regression model. You must add the additional analyses and create projectsions for the remaining 250,000 Tuango customers.\n",
    "\n",
    "After the meeting Susan asks you to double check if a Neural Network with 1 node in the hidden layer and regularization 0.5 is really the best option. \n",
    "\n",
    "4. She suggests using 5-fold cross-validation to evaluate models over a grid with one hidden layer and 1, 2, 3, and 4 nodes and regularization of 0, 0.5, and 1. Use `tanh` and `lbfgs`. Check for overfitting\n",
    "\n",
    "5. For the Random Forest Susan suggested using 5-fold cross-validation to evaluate models over a grid with 100, 200, and 300 trees and 1, 2, and 3 features sampled. Check for overfitting\n",
    "\n",
    "The cross validation for both models should evaluate model performance using AUC. Report the best model specification for both NN and RF. \n",
    "\n",
    "6. Compare model performance (profit and ROME) to determine which model should be used for targeting. Use the plotting code and labels provided below (10 points)\n",
    "\n",
    "\n",
    "> Note: Questions repeated in the appropriate spot below"
   ]
  },
  {
   "cell_type": "code",
   "execution_count": 1,
   "metadata": {},
   "outputs": [],
   "source": [
    "import matplotlib.pyplot as plt\n",
    "import seaborn as sns\n",
    "import pandas as pd\n",
    "import pyrsm as rsm\n",
    "from sklearn.model_selection import GridSearchCV, StratifiedKFold"
   ]
  },
  {
   "cell_type": "code",
   "execution_count": 2,
   "metadata": {},
   "outputs": [],
   "source": [
    "import warnings\n",
    "warnings.simplefilter(action='ignore', category=FutureWarning)"
   ]
  },
  {
   "cell_type": "code",
   "execution_count": 3,
   "metadata": {},
   "outputs": [
    {
     "data": {
      "text/html": [
       "<div>\n",
       "<style scoped>\n",
       "    .dataframe tbody tr th:only-of-type {\n",
       "        vertical-align: middle;\n",
       "    }\n",
       "\n",
       "    .dataframe tbody tr th {\n",
       "        vertical-align: top;\n",
       "    }\n",
       "\n",
       "    .dataframe thead th {\n",
       "        text-align: right;\n",
       "    }\n",
       "</style>\n",
       "<table border=\"1\" class=\"dataframe\">\n",
       "  <thead>\n",
       "    <tr style=\"text-align: right;\">\n",
       "      <th></th>\n",
       "      <th>userid</th>\n",
       "      <th>buyer</th>\n",
       "      <th>ordersize</th>\n",
       "      <th>recency</th>\n",
       "      <th>frequency</th>\n",
       "      <th>monetary</th>\n",
       "      <th>age</th>\n",
       "      <th>gender</th>\n",
       "      <th>music</th>\n",
       "      <th>training</th>\n",
       "    </tr>\n",
       "  </thead>\n",
       "  <tbody>\n",
       "    <tr>\n",
       "      <th>0</th>\n",
       "      <td>U15889344</td>\n",
       "      <td>no</td>\n",
       "      <td>0.0</td>\n",
       "      <td>309</td>\n",
       "      <td>7.0</td>\n",
       "      <td>39.799999</td>\n",
       "      <td>44</td>\n",
       "      <td>F</td>\n",
       "      <td>yes</td>\n",
       "      <td>0.0</td>\n",
       "    </tr>\n",
       "    <tr>\n",
       "      <th>1</th>\n",
       "      <td>U60246497</td>\n",
       "      <td>no</td>\n",
       "      <td>0.0</td>\n",
       "      <td>297</td>\n",
       "      <td>8.0</td>\n",
       "      <td>39.799999</td>\n",
       "      <td>80</td>\n",
       "      <td>M</td>\n",
       "      <td>yes</td>\n",
       "      <td>1.0</td>\n",
       "    </tr>\n",
       "    <tr>\n",
       "      <th>2</th>\n",
       "      <td>U22965759</td>\n",
       "      <td>no</td>\n",
       "      <td>0.0</td>\n",
       "      <td>295</td>\n",
       "      <td>1.0</td>\n",
       "      <td>72.900002</td>\n",
       "      <td>59</td>\n",
       "      <td>F</td>\n",
       "      <td>yes</td>\n",
       "      <td>1.0</td>\n",
       "    </tr>\n",
       "    <tr>\n",
       "      <th>3</th>\n",
       "      <td>U40811142</td>\n",
       "      <td>no</td>\n",
       "      <td>0.0</td>\n",
       "      <td>277</td>\n",
       "      <td>1.0</td>\n",
       "      <td>40.000000</td>\n",
       "      <td>37</td>\n",
       "      <td>F</td>\n",
       "      <td>yes</td>\n",
       "      <td>0.0</td>\n",
       "    </tr>\n",
       "    <tr>\n",
       "      <th>4</th>\n",
       "      <td>U76283952</td>\n",
       "      <td>no</td>\n",
       "      <td>0.0</td>\n",
       "      <td>259</td>\n",
       "      <td>1.0</td>\n",
       "      <td>21.000000</td>\n",
       "      <td>43</td>\n",
       "      <td>F</td>\n",
       "      <td>yes</td>\n",
       "      <td>1.0</td>\n",
       "    </tr>\n",
       "    <tr>\n",
       "      <th>...</th>\n",
       "      <td>...</td>\n",
       "      <td>...</td>\n",
       "      <td>...</td>\n",
       "      <td>...</td>\n",
       "      <td>...</td>\n",
       "      <td>...</td>\n",
       "      <td>...</td>\n",
       "      <td>...</td>\n",
       "      <td>...</td>\n",
       "      <td>...</td>\n",
       "    </tr>\n",
       "    <tr>\n",
       "      <th>20903</th>\n",
       "      <td>U20475633</td>\n",
       "      <td>no</td>\n",
       "      <td>0.0</td>\n",
       "      <td>118</td>\n",
       "      <td>4.0</td>\n",
       "      <td>18.710001</td>\n",
       "      <td>73</td>\n",
       "      <td>F</td>\n",
       "      <td>no</td>\n",
       "      <td>1.0</td>\n",
       "    </tr>\n",
       "    <tr>\n",
       "      <th>20904</th>\n",
       "      <td>U51354565</td>\n",
       "      <td>no</td>\n",
       "      <td>0.0</td>\n",
       "      <td>118</td>\n",
       "      <td>3.0</td>\n",
       "      <td>92.450000</td>\n",
       "      <td>38</td>\n",
       "      <td>F</td>\n",
       "      <td>yes</td>\n",
       "      <td>1.0</td>\n",
       "    </tr>\n",
       "    <tr>\n",
       "      <th>20905</th>\n",
       "      <td>U69360423</td>\n",
       "      <td>no</td>\n",
       "      <td>0.0</td>\n",
       "      <td>117</td>\n",
       "      <td>4.0</td>\n",
       "      <td>51.140000</td>\n",
       "      <td>30</td>\n",
       "      <td>F</td>\n",
       "      <td>yes</td>\n",
       "      <td>0.0</td>\n",
       "    </tr>\n",
       "    <tr>\n",
       "      <th>20906</th>\n",
       "      <td>U48889214</td>\n",
       "      <td>no</td>\n",
       "      <td>0.0</td>\n",
       "      <td>117</td>\n",
       "      <td>4.0</td>\n",
       "      <td>162.110006</td>\n",
       "      <td>42</td>\n",
       "      <td>F</td>\n",
       "      <td>no</td>\n",
       "      <td>1.0</td>\n",
       "    </tr>\n",
       "    <tr>\n",
       "      <th>20907</th>\n",
       "      <td>U28718785</td>\n",
       "      <td>no</td>\n",
       "      <td>0.0</td>\n",
       "      <td>116</td>\n",
       "      <td>1.0</td>\n",
       "      <td>59.840000</td>\n",
       "      <td>39</td>\n",
       "      <td>O</td>\n",
       "      <td>yes</td>\n",
       "      <td>1.0</td>\n",
       "    </tr>\n",
       "  </tbody>\n",
       "</table>\n",
       "<p>20908 rows × 10 columns</p>\n",
       "</div>"
      ],
      "text/plain": [
       "          userid buyer  ordersize  recency  frequency    monetary  age gender  \\\n",
       "0      U15889344    no        0.0      309        7.0   39.799999   44      F   \n",
       "1      U60246497    no        0.0      297        8.0   39.799999   80      M   \n",
       "2      U22965759    no        0.0      295        1.0   72.900002   59      F   \n",
       "3      U40811142    no        0.0      277        1.0   40.000000   37      F   \n",
       "4      U76283952    no        0.0      259        1.0   21.000000   43      F   \n",
       "...          ...   ...        ...      ...        ...         ...  ...    ...   \n",
       "20903  U20475633    no        0.0      118        4.0   18.710001   73      F   \n",
       "20904  U51354565    no        0.0      118        3.0   92.450000   38      F   \n",
       "20905  U69360423    no        0.0      117        4.0   51.140000   30      F   \n",
       "20906  U48889214    no        0.0      117        4.0  162.110006   42      F   \n",
       "20907  U28718785    no        0.0      116        1.0   59.840000   39      O   \n",
       "\n",
       "      music  training  \n",
       "0       yes       0.0  \n",
       "1       yes       1.0  \n",
       "2       yes       1.0  \n",
       "3       yes       0.0  \n",
       "4       yes       1.0  \n",
       "...     ...       ...  \n",
       "20903    no       1.0  \n",
       "20904   yes       1.0  \n",
       "20905   yes       0.0  \n",
       "20906    no       1.0  \n",
       "20907   yes       1.0  \n",
       "\n",
       "[20908 rows x 10 columns]"
      ]
     },
     "execution_count": 3,
     "metadata": {},
     "output_type": "execute_result"
    }
   ],
   "source": [
    "# start by loading the `tuango.pkl`\n",
    "tuango = pd.read_parquet(\"data/q2-tuango-shouse.parquet\")\n",
    "tuango"
   ]
  },
  {
   "cell_type": "code",
   "execution_count": 4,
   "metadata": {},
   "outputs": [
    {
     "data": {
      "text/markdown": [
       "# Tuango: Targeting Mobile App Push Messages\n",
       "\n",
       "This file contains information about the test only\n",
       "\n",
       "## Variable Names and Descriptions\n",
       "* userid: Unique user ID\n",
       "\n",
       "**Response to the customized push message**\n",
       "* buyer: Did the customer buy the Karaoke deal? (\"yes\" or \"no\")\n",
       "* ordersize: Number of 30-minute Karaoke sessions the customer purchased\n",
       "\n",
       "**Recency, Frequency, and Monetary variables**\n",
       "* recency: Days since last purchase of a deal (before the Karaoke deal offer)\n",
       "* frequency: Number of deals purchased during the one year period before the Karaoke deal offer\n",
       "* monetary: Average amount spent per order (in RMB) during the one year period before the Karaoke deal offer\n",
       "\n",
       "**Other variables in the dataset**\n",
       "* age: Age of the customer\n",
       "* gender: Gender identity of the customer (M = male, F = female, O = Other or unknown)\n",
       "* music: Customer made a purchase in the music category during the one-year period before the Karaoke deal offer (\"no\" or \"yes\")\n",
       "* test: Splits the dataset into test (1) and rollout (0) data\n",
       "* training: Splits the dataset into training (1) and test (0) data. This variable will not be used in this assignment"
      ],
      "text/plain": [
       "<IPython.core.display.Markdown object>"
      ]
     },
     "metadata": {},
     "output_type": "display_data"
    }
   ],
   "source": [
    "rsm.md(\"data/q2-tuango-shouse_description.md\")"
   ]
  },
  {
   "cell_type": "markdown",
   "metadata": {},
   "source": [
    "Proportion of customers that responded (i.e., bought the deal) after the push message"
   ]
  },
  {
   "cell_type": "code",
   "execution_count": 5,
   "metadata": {},
   "outputs": [
    {
     "data": {
      "text/html": [
       "<div>\n",
       "<style scoped>\n",
       "    .dataframe tbody tr th:only-of-type {\n",
       "        vertical-align: middle;\n",
       "    }\n",
       "\n",
       "    .dataframe tbody tr th {\n",
       "        vertical-align: top;\n",
       "    }\n",
       "\n",
       "    .dataframe thead th {\n",
       "        text-align: right;\n",
       "    }\n",
       "</style>\n",
       "<table border=\"1\" class=\"dataframe\">\n",
       "  <thead>\n",
       "    <tr style=\"text-align: right;\">\n",
       "      <th>col_0</th>\n",
       "      <th>fraction</th>\n",
       "    </tr>\n",
       "    <tr>\n",
       "      <th>buyer</th>\n",
       "      <th></th>\n",
       "    </tr>\n",
       "  </thead>\n",
       "  <tbody>\n",
       "    <tr>\n",
       "      <th>yes</th>\n",
       "      <td>0.096614</td>\n",
       "    </tr>\n",
       "    <tr>\n",
       "      <th>no</th>\n",
       "      <td>0.903386</td>\n",
       "    </tr>\n",
       "  </tbody>\n",
       "</table>\n",
       "</div>"
      ],
      "text/plain": [
       "col_0  fraction\n",
       "buyer          \n",
       "yes    0.096614\n",
       "no     0.903386"
      ]
     },
     "execution_count": 5,
     "metadata": {},
     "output_type": "execute_result"
    }
   ],
   "source": [
    "pd.crosstab(index=tuango.buyer, columns=\"fraction\", normalize=\"columns\")"
   ]
  },
  {
   "cell_type": "code",
   "execution_count": 6,
   "metadata": {},
   "outputs": [
    {
     "data": {
      "text/html": [
       "<div>\n",
       "<style scoped>\n",
       "    .dataframe tbody tr th:only-of-type {\n",
       "        vertical-align: middle;\n",
       "    }\n",
       "\n",
       "    .dataframe tbody tr th {\n",
       "        vertical-align: top;\n",
       "    }\n",
       "\n",
       "    .dataframe thead th {\n",
       "        text-align: right;\n",
       "    }\n",
       "</style>\n",
       "<table border=\"1\" class=\"dataframe\">\n",
       "  <thead>\n",
       "    <tr style=\"text-align: right;\">\n",
       "      <th>training</th>\n",
       "      <th>0.0</th>\n",
       "      <th>1.0</th>\n",
       "    </tr>\n",
       "    <tr>\n",
       "      <th>buyer</th>\n",
       "      <th></th>\n",
       "      <th></th>\n",
       "    </tr>\n",
       "  </thead>\n",
       "  <tbody>\n",
       "    <tr>\n",
       "      <th>yes</th>\n",
       "      <td>0.094707</td>\n",
       "      <td>0.097431</td>\n",
       "    </tr>\n",
       "    <tr>\n",
       "      <th>no</th>\n",
       "      <td>0.905293</td>\n",
       "      <td>0.902569</td>\n",
       "    </tr>\n",
       "  </tbody>\n",
       "</table>\n",
       "</div>"
      ],
      "text/plain": [
       "training       0.0       1.0\n",
       "buyer                       \n",
       "yes       0.094707  0.097431\n",
       "no        0.905293  0.902569"
      ]
     },
     "execution_count": 6,
     "metadata": {},
     "output_type": "execute_result"
    }
   ],
   "source": [
    "pd.crosstab(index=tuango.buyer, columns=tuango.training, normalize=\"columns\")"
   ]
  },
  {
   "cell_type": "code",
   "execution_count": 7,
   "metadata": {},
   "outputs": [],
   "source": [
    "# Create a column containing an integer when buyer == \"yes\"\n",
    "tuango[\"buyer_yes\"] = rsm.ifelse(tuango.buyer == \"yes\", 1, 0)"
   ]
  },
  {
   "cell_type": "markdown",
   "metadata": {},
   "source": [
    "**What is the breakeven response rate?**"
   ]
  },
  {
   "cell_type": "code",
   "execution_count": 8,
   "metadata": {},
   "outputs": [
    {
     "data": {
      "text/plain": [
       "0.08"
      ]
     },
     "execution_count": 8,
     "metadata": {},
     "output_type": "execute_result"
    }
   ],
   "source": [
    "mcost = 12  # marginal cost to offer the deal\n",
    "margin = 600 * 0.25  # sales revenue (600) * Tuango margin\n",
    "nr_cust = 250000  # Remaining number of customers\n",
    "breakeven = mcost / margin\n",
    "breakeven"
   ]
  },
  {
   "cell_type": "code",
   "execution_count": 9,
   "metadata": {},
   "outputs": [
    {
     "data": {
      "text/plain": [
       "0.08"
      ]
     },
     "execution_count": 9,
     "metadata": {},
     "output_type": "execute_result"
    }
   ],
   "source": [
    "mcost / margin"
   ]
  },
  {
   "cell_type": "markdown",
   "metadata": {},
   "source": [
    "The projected (a) profit in RMB and (b) return on marketing expenditures if we offer the deal to all 250,000 remaining customers"
   ]
  },
  {
   "cell_type": "code",
   "execution_count": 10,
   "metadata": {},
   "outputs": [],
   "source": [
    "# Add an `smsto_all` variable ...\n",
    "tuango[\"smsto_all\"] = True"
   ]
  },
  {
   "cell_type": "code",
   "execution_count": 11,
   "metadata": {},
   "outputs": [
    {
     "name": "stdout",
     "output_type": "stream",
     "text": [
      "\n",
      "- If Tuango sends an SMS to all 250,000 customers the response rate is predicted to be 9.47% or 23677 buyers \n",
      "- The expected profit is RMB551,499. \n",
      "- The sms cost is estimated to be RMB3,000,000 with a ROME of 18.38%\n",
      "\n"
     ]
    }
   ],
   "source": [
    "dat = tuango.query(\"training == 0\")\n",
    "perc_sms = dat.smsto_all.mean()\n",
    "nr_sms = nr_cust * perc_sms\n",
    "resp_rate = dat.loc[dat.smsto_all, \"buyer_yes\"].mean()\n",
    "nr_resp = nr_sms * resp_rate\n",
    "sms_cost = mcost * nr_sms\n",
    "profit_nt = margin * nr_resp - sms_cost\n",
    "ROME_nt = profit_nt / sms_cost\n",
    "\n",
    "result = f\"\"\"\n",
    "- If Tuango sends an SMS to all {nr_sms:,.0f} customers the response rate is predicted to be {(100 * resp_rate):.2f}% or {nr_resp:.0f} buyers \n",
    "- The expected profit is RMB{profit_nt:,.0f}. \n",
    "- The sms cost is estimated to be RMB{sms_cost:,.0f} with a ROME of {(100 * ROME_nt):.2f}%\n",
    "\"\"\"\n",
    "print(result)"
   ]
  },
  {
   "cell_type": "markdown",
   "metadata": {},
   "source": [
    "Estimate a logistic regression model"
   ]
  },
  {
   "cell_type": "code",
   "execution_count": 12,
   "metadata": {},
   "outputs": [
    {
     "data": {
      "text/plain": [
       "['recency', 'frequency', 'monetary', 'age', 'gender']"
      ]
     },
     "execution_count": 12,
     "metadata": {},
     "output_type": "execute_result"
    }
   ],
   "source": [
    "evar = tuango.loc[:, \"recency\":\"gender\"].columns.to_list()\n",
    "evar"
   ]
  },
  {
   "cell_type": "code",
   "execution_count": 13,
   "metadata": {},
   "outputs": [
    {
     "name": "stdout",
     "output_type": "stream",
     "text": [
      "Logistic regression (GLM)\n",
      "Data                 : tuango\n",
      "Response variable    : buyer\n",
      "Level                : yes\n",
      "Explanatory variables: recency, frequency, monetary, age, gender\n",
      "Null hyp.: There is no effect of x on buyer\n",
      "Alt. hyp.: There is an effect of x on buyer\n",
      "\n",
      "              OR     OR%  coefficient  std.error  z.value p.value     \n",
      "Intercept  0.079  -92.1%        -2.54      0.101  -25.096  < .001  ***\n",
      "gender[F]  1.815   81.5%         0.60      0.065    9.114  < .001  ***\n",
      "gender[O]  1.136   13.6%         0.13      0.148    0.862   0.389     \n",
      "recency    0.999   -0.1%        -0.00      0.000   -2.570    0.01    *\n",
      "frequency  1.108   10.8%         0.10      0.012    8.631  < .001  ***\n",
      "monetary   1.002    0.2%         0.00      0.000   10.592  < .001  ***\n",
      "age        0.988   -1.2%        -0.01      0.002   -7.304  < .001  ***\n",
      "\n",
      "Signif. codes:  0 '***' 0.001 '**' 0.01 '*' 0.05 '.' 0.1 ' ' 1\n",
      "\n",
      "Pseudo R-squared (McFadden): 0.036\n",
      "Pseudo R-squared (McFadden adjusted): 0.035\n",
      "Area under the RO Curve (AUC): 0.633\n",
      "Log-likelihood: -4507.386, AIC: 9028.772, BIC: 9081.911\n",
      "Chi-squared: 334.744, df(6), p.value < 0.001 \n",
      "Nr obs: 14,636\n"
     ]
    }
   ],
   "source": [
    "lr = rsm.model.logistic(\n",
    "    data={\"tuango\": tuango.query(\"training == 1\")},\n",
    "    rvar=\"buyer\",\n",
    "    lev=\"yes\",\n",
    "    evar=evar\n",
    ")\n",
    "lr.summary()"
   ]
  },
  {
   "cell_type": "code",
   "execution_count": 14,
   "metadata": {},
   "outputs": [],
   "source": [
    "tuango[\"pred_logit\"] = lr.predict(tuango)[\"prediction\"]"
   ]
  },
  {
   "cell_type": "markdown",
   "metadata": {},
   "source": [
    "**Offer the deal only to those customers with a response rate that is greater than the breakeven response rate** \n",
    "\n",
    "We first need to create a `smsto_logit` variable\n",
    "\n",
    "`smsto_logit = predict_logit > breakeven`"
   ]
  },
  {
   "cell_type": "code",
   "execution_count": 15,
   "metadata": {},
   "outputs": [],
   "source": [
    "# Add an `smsto_logit` variable ...\n",
    "tuango[\"smsto_logit\"] = tuango.pred_logit > breakeven"
   ]
  },
  {
   "cell_type": "code",
   "execution_count": 16,
   "metadata": {},
   "outputs": [
    {
     "name": "stdout",
     "output_type": "stream",
     "text": [
      "\n",
      "- Based on logistic regression the number of customers Tuango should sms is 147,800 (59.12%\n",
      "- The response rate for the selected customers is predicted to be (12.27%) or 18,136 buyers \n",
      "- The expected profit is $946,827\n",
      "- The sms cost is estimated to be RMB1,773,597 with a ROME of 53.38%\n",
      "\n"
     ]
    }
   ],
   "source": [
    "dat = tuango.query(\"training == 0\")\n",
    "perc_sms = dat.smsto_logit.mean()\n",
    "nr_sms = nr_cust * perc_sms\n",
    "resp_rate = dat.loc[dat.smsto_logit, \"buyer_yes\"].mean()\n",
    "nr_resp = nr_sms * resp_rate\n",
    "sms_cost = mcost * nr_sms\n",
    "profit_logit = margin * nr_resp - sms_cost\n",
    "ROME_logit = profit_logit / sms_cost\n",
    "\n",
    "result = f\"\"\"\n",
    "- Based on logistic regression the number of customers Tuango should sms is {nr_sms:,.0f} ({(100 * perc_sms):,.2f}%\n",
    "- The response rate for the selected customers is predicted to be ({(100 *resp_rate):.2f}%) or {nr_resp:,.0f} buyers \n",
    "- The expected profit is ${profit_logit:,.0f}\n",
    "- The sms cost is estimated to be RMB{sms_cost:,.0f} with a ROME of {(100 * ROME_logit):.2f}%\n",
    "\"\"\"\n",
    "\n",
    "print(result)"
   ]
  },
  {
   "cell_type": "markdown",
   "metadata": {},
   "source": [
    "A co-worker told you not to worry because he would run the required analyses on the morning of the meeting. However, he had FAR too much fun at a Karaoke bar the night before and so it is now up to you to add the additional analyses and save the meeting! You have access to a Jupyter notebook file (q3-tuango-shouse.ipynb) that loads the data and generates a report for the logistic regression model. You must add the additional analyses and create projectsions for the remaining 250,000 Tuango customers."
   ]
  },
  {
   "cell_type": "markdown",
   "metadata": {},
   "source": [
    "---------------------------------------------------------------\n",
    "### Put all new analyses below this line\n",
    "---------------------------------------------------------------"
   ]
  },
  {
   "cell_type": "code",
   "execution_count": 17,
   "metadata": {},
   "outputs": [],
   "source": [
    "evar = [\"recency\", \"frequency\", \"monetary\", \"age\", \"gender\"]"
   ]
  },
  {
   "cell_type": "markdown",
   "metadata": {},
   "source": [
    "#### 1. Estimate a Neural Network with 1 node in 1 hidden layer and regularization of 0.5. Use `tanh` and `lbfgs`.</br>"
   ]
  },
  {
   "cell_type": "code",
   "execution_count": 18,
   "metadata": {},
   "outputs": [
    {
     "name": "stdout",
     "output_type": "stream",
     "text": [
      "\u001b[0;31mInit signature:\u001b[0m\n",
      "\u001b[0mrsm\u001b[0m\u001b[0;34m.\u001b[0m\u001b[0mmodel\u001b[0m\u001b[0;34m.\u001b[0m\u001b[0mmlp\u001b[0m\u001b[0;34m(\u001b[0m\u001b[0;34m\u001b[0m\n",
      "\u001b[0;34m\u001b[0m    \u001b[0mdata\u001b[0m\u001b[0;34m:\u001b[0m \u001b[0mpandas\u001b[0m\u001b[0;34m.\u001b[0m\u001b[0mcore\u001b[0m\u001b[0;34m.\u001b[0m\u001b[0mframe\u001b[0m\u001b[0;34m.\u001b[0m\u001b[0mDataFrame\u001b[0m \u001b[0;34m|\u001b[0m \u001b[0mpolars\u001b[0m\u001b[0;34m.\u001b[0m\u001b[0mdataframe\u001b[0m\u001b[0;34m.\u001b[0m\u001b[0mframe\u001b[0m\u001b[0;34m.\u001b[0m\u001b[0mDataFrame\u001b[0m \u001b[0;34m|\u001b[0m \u001b[0mdict\u001b[0m\u001b[0;34m[\u001b[0m\u001b[0mstr\u001b[0m\u001b[0;34m,\u001b[0m \u001b[0mpandas\u001b[0m\u001b[0;34m.\u001b[0m\u001b[0mcore\u001b[0m\u001b[0;34m.\u001b[0m\u001b[0mframe\u001b[0m\u001b[0;34m.\u001b[0m\u001b[0mDataFrame\u001b[0m \u001b[0;34m|\u001b[0m \u001b[0mpolars\u001b[0m\u001b[0;34m.\u001b[0m\u001b[0mdataframe\u001b[0m\u001b[0;34m.\u001b[0m\u001b[0mframe\u001b[0m\u001b[0;34m.\u001b[0m\u001b[0mDataFrame\u001b[0m\u001b[0;34m]\u001b[0m\u001b[0;34m,\u001b[0m\u001b[0;34m\u001b[0m\n",
      "\u001b[0;34m\u001b[0m    \u001b[0mrvar\u001b[0m\u001b[0;34m:\u001b[0m \u001b[0mOptional\u001b[0m\u001b[0;34m[\u001b[0m\u001b[0mstr\u001b[0m\u001b[0;34m]\u001b[0m \u001b[0;34m=\u001b[0m \u001b[0;32mNone\u001b[0m\u001b[0;34m,\u001b[0m\u001b[0;34m\u001b[0m\n",
      "\u001b[0;34m\u001b[0m    \u001b[0mlev\u001b[0m\u001b[0;34m:\u001b[0m \u001b[0mOptional\u001b[0m\u001b[0;34m[\u001b[0m\u001b[0mstr\u001b[0m\u001b[0;34m]\u001b[0m \u001b[0;34m=\u001b[0m \u001b[0;32mNone\u001b[0m\u001b[0;34m,\u001b[0m\u001b[0;34m\u001b[0m\n",
      "\u001b[0;34m\u001b[0m    \u001b[0mevar\u001b[0m\u001b[0;34m:\u001b[0m \u001b[0mOptional\u001b[0m\u001b[0;34m[\u001b[0m\u001b[0mlist\u001b[0m\u001b[0;34m[\u001b[0m\u001b[0mstr\u001b[0m\u001b[0;34m]\u001b[0m\u001b[0;34m]\u001b[0m \u001b[0;34m=\u001b[0m \u001b[0;32mNone\u001b[0m\u001b[0;34m,\u001b[0m\u001b[0;34m\u001b[0m\n",
      "\u001b[0;34m\u001b[0m    \u001b[0mhidden_layer_sizes\u001b[0m\u001b[0;34m:\u001b[0m \u001b[0mtuple\u001b[0m \u001b[0;34m=\u001b[0m \u001b[0;34m(\u001b[0m\u001b[0;36m5\u001b[0m\u001b[0;34m,\u001b[0m\u001b[0;34m)\u001b[0m\u001b[0;34m,\u001b[0m\u001b[0;34m\u001b[0m\n",
      "\u001b[0;34m\u001b[0m    \u001b[0mactivation\u001b[0m\u001b[0;34m:\u001b[0m \u001b[0mLiteral\u001b[0m\u001b[0;34m[\u001b[0m\u001b[0;34m'identity'\u001b[0m\u001b[0;34m,\u001b[0m \u001b[0;34m'logistic'\u001b[0m\u001b[0;34m,\u001b[0m \u001b[0;34m'tanh'\u001b[0m\u001b[0;34m,\u001b[0m \u001b[0;34m'relu'\u001b[0m\u001b[0;34m]\u001b[0m \u001b[0;34m=\u001b[0m \u001b[0;34m'tanh'\u001b[0m\u001b[0;34m,\u001b[0m\u001b[0;34m\u001b[0m\n",
      "\u001b[0;34m\u001b[0m    \u001b[0msolver\u001b[0m\u001b[0;34m:\u001b[0m \u001b[0mLiteral\u001b[0m\u001b[0;34m[\u001b[0m\u001b[0;34m'lbfgs'\u001b[0m\u001b[0;34m,\u001b[0m \u001b[0;34m'sgd'\u001b[0m\u001b[0;34m,\u001b[0m \u001b[0;34m'adam'\u001b[0m\u001b[0;34m]\u001b[0m \u001b[0;34m=\u001b[0m \u001b[0;34m'lbfgs'\u001b[0m\u001b[0;34m,\u001b[0m\u001b[0;34m\u001b[0m\n",
      "\u001b[0;34m\u001b[0m    \u001b[0malpha\u001b[0m\u001b[0;34m:\u001b[0m \u001b[0mfloat\u001b[0m \u001b[0;34m=\u001b[0m \u001b[0;36m0.0001\u001b[0m\u001b[0;34m,\u001b[0m\u001b[0;34m\u001b[0m\n",
      "\u001b[0;34m\u001b[0m    \u001b[0mbatch_size\u001b[0m\u001b[0;34m:\u001b[0m \u001b[0mfloat\u001b[0m \u001b[0;34m|\u001b[0m \u001b[0mstr\u001b[0m \u001b[0;34m=\u001b[0m \u001b[0;34m'auto'\u001b[0m\u001b[0;34m,\u001b[0m\u001b[0;34m\u001b[0m\n",
      "\u001b[0;34m\u001b[0m    \u001b[0mlearning_rate_init\u001b[0m\u001b[0;34m:\u001b[0m \u001b[0mfloat\u001b[0m \u001b[0;34m=\u001b[0m \u001b[0;36m0.001\u001b[0m\u001b[0;34m,\u001b[0m\u001b[0;34m\u001b[0m\n",
      "\u001b[0;34m\u001b[0m    \u001b[0mmax_iter\u001b[0m\u001b[0;34m:\u001b[0m \u001b[0mint\u001b[0m \u001b[0;34m=\u001b[0m \u001b[0;36m10000\u001b[0m\u001b[0;34m,\u001b[0m\u001b[0;34m\u001b[0m\n",
      "\u001b[0;34m\u001b[0m    \u001b[0mrandom_state\u001b[0m\u001b[0;34m:\u001b[0m \u001b[0mint\u001b[0m \u001b[0;34m=\u001b[0m \u001b[0;36m1234\u001b[0m\u001b[0;34m,\u001b[0m\u001b[0;34m\u001b[0m\n",
      "\u001b[0;34m\u001b[0m    \u001b[0mmod_type\u001b[0m\u001b[0;34m:\u001b[0m \u001b[0mLiteral\u001b[0m\u001b[0;34m[\u001b[0m\u001b[0;34m'regression'\u001b[0m\u001b[0;34m,\u001b[0m \u001b[0;34m'classification'\u001b[0m\u001b[0;34m]\u001b[0m \u001b[0;34m=\u001b[0m \u001b[0;34m'classification'\u001b[0m\u001b[0;34m,\u001b[0m\u001b[0;34m\u001b[0m\n",
      "\u001b[0;34m\u001b[0m    \u001b[0;34m**\u001b[0m\u001b[0mkwargs\u001b[0m\u001b[0;34m,\u001b[0m\u001b[0;34m\u001b[0m\n",
      "\u001b[0;34m\u001b[0m\u001b[0;34m)\u001b[0m \u001b[0;34m->\u001b[0m \u001b[0;32mNone\u001b[0m\u001b[0;34m\u001b[0m\u001b[0;34m\u001b[0m\u001b[0m\n",
      "\u001b[0;31mDocstring:\u001b[0m     \n",
      "Initialize Multi-layer Perceptron (NN) model\n",
      "\n",
      "Parameters\n",
      "----------\n",
      "data: pandas DataFrame; dataset\n",
      "lev: String; name of the level in the response variable\n",
      "rvar: String; name of the column to be used as the response variable\n",
      "evar: List of strings; contains the names of the column of data to be used as the explanatory (target) variable\n",
      "hidden_layer_sizes: The number of neurons in the hidden layer and the number of hidden layers (e..g, (5,) for 5 neurons in 1 hidden layer, (5, 5) for 5 neurons in 2 hidden layers, etc.)\n",
      "activation: Activation function apply to transform for the nodes in the hidden layer\n",
      "solver: The solver used for weight optimization\n",
      "alpha: L2 penalty (regularization term) parameter\n",
      "\n",
      "**kwargs : Named arguments to be passed to the sklearn's Multi-layer Perceptron functions\n",
      "\u001b[0;31mFile:\u001b[0m           ~/.rsm-msba/lib/python3.11/site-packages/pyrsm/model/mlp.py\n",
      "\u001b[0;31mType:\u001b[0m           type\n",
      "\u001b[0;31mSubclasses:\u001b[0m     "
     ]
    }
   ],
   "source": [
    "rsm.model.mlp?"
   ]
  },
  {
   "cell_type": "code",
   "execution_count": 19,
   "metadata": {},
   "outputs": [
    {
     "name": "stdout",
     "output_type": "stream",
     "text": [
      "Multi-layer Perceptron (NN)\n",
      "Data                 : tuango\n",
      "Response variable    : buyer\n",
      "Level                : yes\n",
      "Explanatory variables: recency, frequency, monetary, age, gender\n",
      "Model type           : classification\n",
      "Nr. of features      : (5, 6)\n",
      "Nr. of observations  : 14,636\n",
      "Hidden_layer_sizes   : (1,)\n",
      "Activation function  : tanh\n",
      "Solver               : lbfgs\n",
      "Alpha                : 0.5\n",
      "Batch size           : auto\n",
      "Learning rate        : 0.001\n",
      "Maximum iterations   : 10000\n",
      "random_state         : 1234\n",
      "AUC                  : 0.633\n",
      "\n",
      "Raw data             :\n",
      " recency  frequency  monetary  age gender\n",
      "     297        8.0 39.799999   80      M\n",
      "     295        1.0 72.900002   59      F\n",
      "     259        1.0 21.000000   43      F\n",
      "     243        1.0 19.900000   19      M\n",
      "     216        1.0 40.000000   38      F\n",
      "\n",
      "Estimation data      :\n",
      " recency  frequency  monetary       age  gender_F  gender_O\n",
      "3.043287   2.502123 -0.313856  1.863260     False     False\n",
      "3.017940  -0.780890 -0.006706  0.706537      True     False\n",
      "2.561697  -0.780890 -0.488310 -0.174775      True     False\n",
      "2.358923  -0.780890 -0.498517 -1.496744     False     False\n",
      "2.016741  -0.780890 -0.312000 -0.450185      True     False\n"
     ]
    }
   ],
   "source": [
    "clf1 = rsm.model.mlp(\n",
    "    data={\"tuango\": tuango.query(\"training == 1\")},\n",
    "    rvar=\"buyer\",\n",
    "    lev=\"yes\",\n",
    "    evar=evar,\n",
    "    hidden_layer_sizes=(1,),\n",
    "    mod_type=\"classification\",\n",
    "    alpha=0.5,\n",
    "    activation = 'tanh',\n",
    "    solver = 'lbfgs'\n",
    ")\n",
    "clf1.summary()"
   ]
  },
  {
   "cell_type": "code",
   "execution_count": 20,
   "metadata": {},
   "outputs": [],
   "source": [
    "tuango[\"pred_nn\"] = clf1.predict(tuango)[\"prediction\"]"
   ]
  },
  {
   "cell_type": "markdown",
   "metadata": {},
   "source": [
    "#### 2. Estimate a Random Forest with 100 trees with 1 feature sampled for consideration for each node split</br>"
   ]
  },
  {
   "cell_type": "code",
   "execution_count": 21,
   "metadata": {},
   "outputs": [
    {
     "name": "stdout",
     "output_type": "stream",
     "text": [
      "Random Forest\n",
      "Data                 : tuango\n",
      "Response variable    : buyer\n",
      "Level                : yes\n",
      "Explanatory variables: recency, frequency, monetary, age, gender\n",
      "OOB                  : True\n",
      "Model type           : classification\n",
      "Nr. of features      : (5, 7)\n",
      "Nr. of observations  : 14,636\n",
      "max_features         : sqrt (2)\n",
      "n_estimators         : 100\n",
      "min_samples_leaf     : 1\n",
      "random_state         : 1234\n",
      "AUC                  : 0.64\n",
      "\n",
      "Estimation data      :\n",
      " recency  frequency  monetary  age  gender_M  gender_F  gender_O\n",
      "     297        8.0 39.799999   80      True     False     False\n",
      "     295        1.0 72.900002   59     False      True     False\n",
      "     259        1.0 21.000000   43     False      True     False\n",
      "     243        1.0 19.900000   19      True     False     False\n",
      "     216        1.0 40.000000   38     False      True     False\n"
     ]
    }
   ],
   "source": [
    "rf = rsm.model.rforest(\n",
    "    data={\"tuango\": tuango.query(\"training == 1\")},\n",
    "    rvar=\"buyer\",\n",
    "    lev=\"yes\",\n",
    "    evar=evar, \n",
    "    mod_type ='classification',\n",
    "    n_estimators = 100,\n",
    "    min_samples_leaf = 1\n",
    ")\n",
    "rf.summary()"
   ]
  },
  {
   "cell_type": "code",
   "execution_count": 22,
   "metadata": {},
   "outputs": [],
   "source": [
    "tuango[\"pred_rf\"] = rf.predict(tuango)[\"prediction\"]"
   ]
  },
  {
   "cell_type": "code",
   "execution_count": 23,
   "metadata": {},
   "outputs": [
    {
     "data": {
      "text/html": [
       "<div>\n",
       "<style scoped>\n",
       "    .dataframe tbody tr th:only-of-type {\n",
       "        vertical-align: middle;\n",
       "    }\n",
       "\n",
       "    .dataframe tbody tr th {\n",
       "        vertical-align: top;\n",
       "    }\n",
       "\n",
       "    .dataframe thead th {\n",
       "        text-align: right;\n",
       "    }\n",
       "</style>\n",
       "<table border=\"1\" class=\"dataframe\">\n",
       "  <thead>\n",
       "    <tr style=\"text-align: right;\">\n",
       "      <th></th>\n",
       "      <th>userid</th>\n",
       "      <th>buyer</th>\n",
       "      <th>ordersize</th>\n",
       "      <th>recency</th>\n",
       "      <th>frequency</th>\n",
       "      <th>monetary</th>\n",
       "      <th>age</th>\n",
       "      <th>gender</th>\n",
       "      <th>music</th>\n",
       "      <th>training</th>\n",
       "      <th>buyer_yes</th>\n",
       "      <th>smsto_all</th>\n",
       "      <th>pred_logit</th>\n",
       "      <th>smsto_logit</th>\n",
       "      <th>pred_nn</th>\n",
       "      <th>pred_rf</th>\n",
       "    </tr>\n",
       "  </thead>\n",
       "  <tbody>\n",
       "    <tr>\n",
       "      <th>0</th>\n",
       "      <td>U15889344</td>\n",
       "      <td>no</td>\n",
       "      <td>0.0</td>\n",
       "      <td>309</td>\n",
       "      <td>7.0</td>\n",
       "      <td>39.799999</td>\n",
       "      <td>44</td>\n",
       "      <td>F</td>\n",
       "      <td>yes</td>\n",
       "      <td>0.0</td>\n",
       "      <td>0</td>\n",
       "      <td>True</td>\n",
       "      <td>0.124875</td>\n",
       "      <td>True</td>\n",
       "      <td>0.124075</td>\n",
       "      <td>0.14</td>\n",
       "    </tr>\n",
       "    <tr>\n",
       "      <th>1</th>\n",
       "      <td>U60246497</td>\n",
       "      <td>no</td>\n",
       "      <td>0.0</td>\n",
       "      <td>297</td>\n",
       "      <td>8.0</td>\n",
       "      <td>39.799999</td>\n",
       "      <td>80</td>\n",
       "      <td>M</td>\n",
       "      <td>yes</td>\n",
       "      <td>1.0</td>\n",
       "      <td>0</td>\n",
       "      <td>True</td>\n",
       "      <td>0.054452</td>\n",
       "      <td>False</td>\n",
       "      <td>0.050858</td>\n",
       "      <td>0.00</td>\n",
       "    </tr>\n",
       "    <tr>\n",
       "      <th>2</th>\n",
       "      <td>U22965759</td>\n",
       "      <td>no</td>\n",
       "      <td>0.0</td>\n",
       "      <td>295</td>\n",
       "      <td>1.0</td>\n",
       "      <td>72.900002</td>\n",
       "      <td>59</td>\n",
       "      <td>F</td>\n",
       "      <td>yes</td>\n",
       "      <td>1.0</td>\n",
       "      <td>0</td>\n",
       "      <td>True</td>\n",
       "      <td>0.066288</td>\n",
       "      <td>False</td>\n",
       "      <td>0.065587</td>\n",
       "      <td>0.10</td>\n",
       "    </tr>\n",
       "    <tr>\n",
       "      <th>3</th>\n",
       "      <td>U40811142</td>\n",
       "      <td>no</td>\n",
       "      <td>0.0</td>\n",
       "      <td>277</td>\n",
       "      <td>1.0</td>\n",
       "      <td>40.000000</td>\n",
       "      <td>37</td>\n",
       "      <td>F</td>\n",
       "      <td>yes</td>\n",
       "      <td>0.0</td>\n",
       "      <td>0</td>\n",
       "      <td>True</td>\n",
       "      <td>0.079522</td>\n",
       "      <td>False</td>\n",
       "      <td>0.079977</td>\n",
       "      <td>0.09</td>\n",
       "    </tr>\n",
       "    <tr>\n",
       "      <th>4</th>\n",
       "      <td>U76283952</td>\n",
       "      <td>no</td>\n",
       "      <td>0.0</td>\n",
       "      <td>259</td>\n",
       "      <td>1.0</td>\n",
       "      <td>21.000000</td>\n",
       "      <td>43</td>\n",
       "      <td>F</td>\n",
       "      <td>yes</td>\n",
       "      <td>1.0</td>\n",
       "      <td>0</td>\n",
       "      <td>True</td>\n",
       "      <td>0.072467</td>\n",
       "      <td>False</td>\n",
       "      <td>0.071693</td>\n",
       "      <td>0.06</td>\n",
       "    </tr>\n",
       "  </tbody>\n",
       "</table>\n",
       "</div>"
      ],
      "text/plain": [
       "      userid buyer  ordersize  recency  frequency   monetary  age gender  \\\n",
       "0  U15889344    no        0.0      309        7.0  39.799999   44      F   \n",
       "1  U60246497    no        0.0      297        8.0  39.799999   80      M   \n",
       "2  U22965759    no        0.0      295        1.0  72.900002   59      F   \n",
       "3  U40811142    no        0.0      277        1.0  40.000000   37      F   \n",
       "4  U76283952    no        0.0      259        1.0  21.000000   43      F   \n",
       "\n",
       "  music  training  buyer_yes  smsto_all  pred_logit  smsto_logit   pred_nn  \\\n",
       "0   yes       0.0          0       True    0.124875         True  0.124075   \n",
       "1   yes       1.0          0       True    0.054452        False  0.050858   \n",
       "2   yes       1.0          0       True    0.066288        False  0.065587   \n",
       "3   yes       0.0          0       True    0.079522        False  0.079977   \n",
       "4   yes       1.0          0       True    0.072467        False  0.071693   \n",
       "\n",
       "   pred_rf  \n",
       "0     0.14  \n",
       "1     0.00  \n",
       "2     0.10  \n",
       "3     0.09  \n",
       "4     0.06  "
      ]
     },
     "execution_count": 23,
     "metadata": {},
     "output_type": "execute_result"
    }
   ],
   "source": [
    "tuango.head()"
   ]
  },
  {
   "cell_type": "markdown",
   "metadata": {},
   "source": [
    "#### 3. Evaluate model performance (profit and ROME) for each of the 3 models to ensure there is no over-fitting using a gains chart</br> "
   ]
  },
  {
   "cell_type": "code",
   "execution_count": 25,
   "metadata": {},
   "outputs": [
    {
     "data": {
      "image/png": "[encoded data removed]",
      "text/plain": [
       "<Figure size 640x480 with 1 Axes>"
      ]
     },
     "metadata": {},
     "output_type": "display_data"
    }
   ],
   "source": [
    "fig = rsm.gains_plot(tuango[tuango['training']==0], 'buyer', 'yes', [\"pred_logit\", \"pred_nn\", \"pred_rf\"])"
   ]
  },
  {
   "cell_type": "code",
   "execution_count": 26,
   "metadata": {},
   "outputs": [
    {
     "data": {
      "image/png": "[encoded data removed]",
      "text/plain": [
       "<Figure size 640x480 with 1 Axes>"
      ]
     },
     "metadata": {},
     "output_type": "display_data"
    }
   ],
   "source": [
    "dct = {\n",
    "    \"training\": tuango[tuango['training']==1],\n",
    "    \"test\": tuango[tuango['training']==0],\n",
    "}\n",
    "fig = rsm.gains_plot(dct, \"buyer\", 'yes', \"pred_logit\")"
   ]
  },
  {
   "cell_type": "code",
   "execution_count": 27,
   "metadata": {},
   "outputs": [
    {
     "data": {
      "image/png": "[encoded data removed]",
      "text/plain": [
       "<Figure size 640x480 with 1 Axes>"
      ]
     },
     "metadata": {},
     "output_type": "display_data"
    }
   ],
   "source": [
    "fig = rsm.gains_plot(dct, \"buyer\", 'yes', \"pred_rf\")"
   ]
  },
  {
   "cell_type": "markdown",
   "metadata": {},
   "source": [
    "RF is overfitting"
   ]
  },
  {
   "cell_type": "code",
   "execution_count": 28,
   "metadata": {},
   "outputs": [
    {
     "data": {
      "image/png": "[encoded data removed]",
      "text/plain": [
       "<Figure size 640x480 with 1 Axes>"
      ]
     },
     "metadata": {},
     "output_type": "display_data"
    }
   ],
   "source": [
    "fig = rsm.gains_plot(dct, \"buyer\", 'yes', \"pred_nn\")"
   ]
  },
  {
   "cell_type": "markdown",
   "metadata": {},
   "source": [
    "4. She suggests using 5-fold cross-validation to evaluate models over a grid with one hidden layer and 1, 2, 3, and 4 nodes and regularization of 0, 0.5, and 1. Use `tanh` and `lbfgs`. Check for overfitting (5 points) \n",
    "\n",
    "5. For the Random Forest Susan suggested using 5-fold cross-validation to evaluate models over a grid with 100, 200, and 300 trees and 1, 2, and 3 features sampled. Check for overfitting (5 points) \n",
    "\n",
    "The cross validation for both models should evaluate model performance using AUC. Report the best model specification for both NN and RF. \n",
    "\n",
    "6. Compare model performance (profit and ROME) to determine which model should be used for targeting. Use the plotting code and labels provided below (10 points)\n"
   ]
  },
  {
   "cell_type": "code",
   "execution_count": 29,
   "metadata": {},
   "outputs": [],
   "source": [
    "param_grid = {\n",
    "    'hidden_layer_sizes': [(1,), (2,), (3,), (4,)],  # One hidden layer with 1-4 nodes\n",
    "    'alpha': [0, 0.5, 1],  # Regularization strength\n",
    "    'activation': ['tanh'],  # Activation function for the hidden layer\n",
    "    'solver': ['lbfgs']  # Solver for weight optimization\n",
    "}\n",
    "scoring = {\"AUC\": \"roc_auc\"}\n",
    "# Set up GridSearchCV\n",
    "clf_cv = GridSearchCV(\n",
    "    clf1.fitted, param_grid, scoring=scoring, cv=5, n_jobs=4, refit='AUC', verbose=5 \n",
    ")"
   ]
  },
  {
   "cell_type": "code",
   "execution_count": 30,
   "metadata": {},
   "outputs": [
    {
     "data": {
      "text/plain": [
       "recency      0.000\n",
       "frequency    0.000\n",
       "monetary    -0.000\n",
       "age          0.000\n",
       "gender_F     0.599\n",
       "gender_O     0.053\n",
       "dtype: float64"
      ]
     },
     "execution_count": 30,
     "metadata": {},
     "output_type": "execute_result"
    }
   ],
   "source": [
    "clf1.data_onehot.mean().round(3)"
   ]
  },
  {
   "cell_type": "code",
   "execution_count": 31,
   "metadata": {},
   "outputs": [
    {
     "name": "stdout",
     "output_type": "stream",
     "text": [
      "Fitting 5 folds for each of 12 candidates, totalling 60 fits\n"
     ]
    },
    {
     "data": {
      "text/html": [
       "<style>#sk-container-id-1 {color: black;}#sk-container-id-1 pre{padding: 0;}#sk-container-id-1 div.sk-toggleable {background-color: white;}#sk-container-id-1 label.sk-toggleable__label {cursor: pointer;display: block;width: 100%;margin-bottom: 0;padding: 0.3em;box-sizing: border-box;text-align: center;}#sk-container-id-1 label.sk-toggleable__label-arrow:before {content: \"▸\";float: left;margin-right: 0.25em;color: #696969;}#sk-container-id-1 label.sk-toggleable__label-arrow:hover:before {color: black;}#sk-container-id-1 div.sk-estimator:hover label.sk-toggleable__label-arrow:before {color: black;}#sk-container-id-1 div.sk-toggleable__content {max-height: 0;max-width: 0;overflow: hidden;text-align: left;background-color: #f0f8ff;}#sk-container-id-1 div.sk-toggleable__content pre {margin: 0.2em;color: black;border-radius: 0.25em;background-color: #f0f8ff;}#sk-container-id-1 input.sk-toggleable__control:checked~div.sk-toggleable__content {max-height: 200px;max-width: 100%;overflow: auto;}#sk-container-id-1 input.sk-toggleable__control:checked~label.sk-toggleable__label-arrow:before {content: \"▾\";}#sk-container-id-1 div.sk-estimator input.sk-toggleable__control:checked~label.sk-toggleable__label {background-color: #d4ebff;}#sk-container-id-1 div.sk-label input.sk-toggleable__control:checked~label.sk-toggleable__label {background-color: #d4ebff;}#sk-container-id-1 input.sk-hidden--visually {border: 0;clip: rect(1px 1px 1px 1px);clip: rect(1px, 1px, 1px, 1px);height: 1px;margin: -1px;overflow: hidden;padding: 0;position: absolute;width: 1px;}#sk-container-id-1 div.sk-estimator {font-family: monospace;background-color: #f0f8ff;border: 1px dotted black;border-radius: 0.25em;box-sizing: border-box;margin-bottom: 0.5em;}#sk-container-id-1 div.sk-estimator:hover {background-color: #d4ebff;}#sk-container-id-1 div.sk-parallel-item::after {content: \"\";width: 100%;border-bottom: 1px solid gray;flex-grow: 1;}#sk-container-id-1 div.sk-label:hover label.sk-toggleable__label {background-color: #d4ebff;}#sk-container-id-1 div.sk-serial::before {content: \"\";position: absolute;border-left: 1px solid gray;box-sizing: border-box;top: 0;bottom: 0;left: 50%;z-index: 0;}#sk-container-id-1 div.sk-serial {display: flex;flex-direction: column;align-items: center;background-color: white;padding-right: 0.2em;padding-left: 0.2em;position: relative;}#sk-container-id-1 div.sk-item {position: relative;z-index: 1;}#sk-container-id-1 div.sk-parallel {display: flex;align-items: stretch;justify-content: center;background-color: white;position: relative;}#sk-container-id-1 div.sk-item::before, #sk-container-id-1 div.sk-parallel-item::before {content: \"\";position: absolute;border-left: 1px solid gray;box-sizing: border-box;top: 0;bottom: 0;left: 50%;z-index: -1;}#sk-container-id-1 div.sk-parallel-item {display: flex;flex-direction: column;z-index: 1;position: relative;background-color: white;}#sk-container-id-1 div.sk-parallel-item:first-child::after {align-self: flex-end;width: 50%;}#sk-container-id-1 div.sk-parallel-item:last-child::after {align-self: flex-start;width: 50%;}#sk-container-id-1 div.sk-parallel-item:only-child::after {width: 0;}#sk-container-id-1 div.sk-dashed-wrapped {border: 1px dashed gray;margin: 0 0.4em 0.5em 0.4em;box-sizing: border-box;padding-bottom: 0.4em;background-color: white;}#sk-container-id-1 div.sk-label label {font-family: monospace;font-weight: bold;display: inline-block;line-height: 1.2em;}#sk-container-id-1 div.sk-label-container {text-align: center;}#sk-container-id-1 div.sk-container {/* jupyter's `normalize.less` sets `[hidden] { display: none; }` but bootstrap.min.css set `[hidden] { display: none !important; }` so we also need the `!important` here to be able to override the default hidden behavior on the sphinx rendered scikit-learn.org. See: https://github.com/scikit-learn/scikit-learn/issues/21755 */display: inline-block !important;position: relative;}#sk-container-id-1 div.sk-text-repr-fallback {display: none;}</style><div id=\"sk-container-id-1\" class=\"sk-top-container\"><div class=\"sk-text-repr-fallback\"><pre>GridSearchCV(cv=5,\n",
       "             estimator=MLPClassifier(activation=&#x27;tanh&#x27;, alpha=0.5,\n",
       "                                     hidden_layer_sizes=(1,), max_iter=10000,\n",
       "                                     random_state=1234, solver=&#x27;lbfgs&#x27;),\n",
       "             n_jobs=4,\n",
       "             param_grid={&#x27;activation&#x27;: [&#x27;tanh&#x27;], &#x27;alpha&#x27;: [0, 0.5, 1],\n",
       "                         &#x27;hidden_layer_sizes&#x27;: [(1,), (2,), (3,), (4,)],\n",
       "                         &#x27;solver&#x27;: [&#x27;lbfgs&#x27;]},\n",
       "             refit=&#x27;AUC&#x27;, scoring={&#x27;AUC&#x27;: &#x27;roc_auc&#x27;}, verbose=5)</pre><b>In a Jupyter environment, please rerun this cell to show the HTML representation or trust the notebook. <br />On GitHub, the HTML representation is unable to render, please try loading this page with nbviewer.org.</b></div><div class=\"sk-container\" hidden><div class=\"sk-item sk-dashed-wrapped\"><div class=\"sk-label-container\"><div class=\"sk-label sk-toggleable\"><input class=\"sk-toggleable__control sk-hidden--visually\" id=\"sk-estimator-id-1\" type=\"checkbox\" ><label for=\"sk-estimator-id-1\" class=\"sk-toggleable__label sk-toggleable__label-arrow\">GridSearchCV</label><div class=\"sk-toggleable__content\"><pre>GridSearchCV(cv=5,\n",
       "             estimator=MLPClassifier(activation=&#x27;tanh&#x27;, alpha=0.5,\n",
       "                                     hidden_layer_sizes=(1,), max_iter=10000,\n",
       "                                     random_state=1234, solver=&#x27;lbfgs&#x27;),\n",
       "             n_jobs=4,\n",
       "             param_grid={&#x27;activation&#x27;: [&#x27;tanh&#x27;], &#x27;alpha&#x27;: [0, 0.5, 1],\n",
       "                         &#x27;hidden_layer_sizes&#x27;: [(1,), (2,), (3,), (4,)],\n",
       "                         &#x27;solver&#x27;: [&#x27;lbfgs&#x27;]},\n",
       "             refit=&#x27;AUC&#x27;, scoring={&#x27;AUC&#x27;: &#x27;roc_auc&#x27;}, verbose=5)</pre></div></div></div><div class=\"sk-parallel\"><div class=\"sk-parallel-item\"><div class=\"sk-item\"><div class=\"sk-label-container\"><div class=\"sk-label sk-toggleable\"><input class=\"sk-toggleable__control sk-hidden--visually\" id=\"sk-estimator-id-2\" type=\"checkbox\" ><label for=\"sk-estimator-id-2\" class=\"sk-toggleable__label sk-toggleable__label-arrow\">estimator: MLPClassifier</label><div class=\"sk-toggleable__content\"><pre>MLPClassifier(activation=&#x27;tanh&#x27;, alpha=0.5, hidden_layer_sizes=(1,),\n",
       "              max_iter=10000, random_state=1234, solver=&#x27;lbfgs&#x27;)</pre></div></div></div><div class=\"sk-serial\"><div class=\"sk-item\"><div class=\"sk-estimator sk-toggleable\"><input class=\"sk-toggleable__control sk-hidden--visually\" id=\"sk-estimator-id-3\" type=\"checkbox\" ><label for=\"sk-estimator-id-3\" class=\"sk-toggleable__label sk-toggleable__label-arrow\">MLPClassifier</label><div class=\"sk-toggleable__content\"><pre>MLPClassifier(activation=&#x27;tanh&#x27;, alpha=0.5, hidden_layer_sizes=(1,),\n",
       "              max_iter=10000, random_state=1234, solver=&#x27;lbfgs&#x27;)</pre></div></div></div></div></div></div></div></div></div></div>"
      ],
      "text/plain": [
       "GridSearchCV(cv=5,\n",
       "             estimator=MLPClassifier(activation='tanh', alpha=0.5,\n",
       "                                     hidden_layer_sizes=(1,), max_iter=10000,\n",
       "                                     random_state=1234, solver='lbfgs'),\n",
       "             n_jobs=4,\n",
       "             param_grid={'activation': ['tanh'], 'alpha': [0, 0.5, 1],\n",
       "                         'hidden_layer_sizes': [(1,), (2,), (3,), (4,)],\n",
       "                         'solver': ['lbfgs']},\n",
       "             refit='AUC', scoring={'AUC': 'roc_auc'}, verbose=5)"
      ]
     },
     "execution_count": 31,
     "metadata": {},
     "output_type": "execute_result"
    }
   ],
   "source": [
    "clf_cv.fit(clf1.data_onehot, clf1.data.buyer)"
   ]
  },
  {
   "cell_type": "code",
   "execution_count": 34,
   "metadata": {},
   "outputs": [],
   "source": [
    "best = clf_cv.best_params_"
   ]
  },
  {
   "cell_type": "code",
   "execution_count": 35,
   "metadata": {},
   "outputs": [
    {
     "name": "stdout",
     "output_type": "stream",
     "text": [
      "Multi-layer Perceptron (NN)\n",
      "Data                 : tuango\n",
      "Response variable    : buyer\n",
      "Level                : yes\n",
      "Explanatory variables: recency, frequency, monetary, age, gender\n",
      "Model type           : classification\n",
      "Nr. of features      : (5, 6)\n",
      "Nr. of observations  : 14,636\n",
      "Hidden_layer_sizes   : (3,)\n",
      "Activation function  : tanh\n",
      "Solver               : lbfgs\n",
      "Alpha                : 0\n",
      "Batch size           : auto\n",
      "Learning rate        : 0.001\n",
      "Maximum iterations   : 10000\n",
      "random_state         : 1234\n",
      "AUC                  : 0.722\n",
      "\n",
      "Raw data             :\n",
      " recency  frequency  monetary  age gender\n",
      "     297        8.0 39.799999   80      M\n",
      "     295        1.0 72.900002   59      F\n",
      "     259        1.0 21.000000   43      F\n",
      "     243        1.0 19.900000   19      M\n",
      "     216        1.0 40.000000   38      F\n",
      "\n",
      "Estimation data      :\n",
      " recency  frequency  monetary       age  gender_F  gender_O\n",
      "3.043287   2.502123 -0.313856  1.863260     False     False\n",
      "3.017940  -0.780890 -0.006706  0.706537      True     False\n",
      "2.561697  -0.780890 -0.488310 -0.174775      True     False\n",
      "2.358923  -0.780890 -0.498517 -1.496744     False     False\n",
      "2.016741  -0.780890 -0.312000 -0.450185      True     False\n"
     ]
    }
   ],
   "source": [
    "clf_cv = rsm.model.mlp(\n",
    "    data={\"tuango\": tuango.query(\"training == 1\")},\n",
    "    rvar=\"buyer\",\n",
    "    lev=\"yes\",\n",
    "    evar=evar,\n",
    "    hidden_layer_sizes=best['hidden_layer_sizes'],\n",
    "    mod_type=\"classification\",\n",
    "    alpha=best['alpha'],\n",
    "    activation = 'tanh',\n",
    "    solver = 'lbfgs'\n",
    ")\n",
    "clf_cv.summary()"
   ]
  },
  {
   "cell_type": "code",
   "execution_count": 36,
   "metadata": {},
   "outputs": [],
   "source": [
    "tuango[\"pred_nn_cv\"] = clf_cv.predict(tuango)[\"prediction\"]"
   ]
  },
  {
   "cell_type": "markdown",
   "metadata": {},
   "source": [
    "5. For the Random Forest Susan suggested using 5-fold cross-validation to evaluate models over a grid with 100, 200, and 300 trees and 1, 2, and 3 features sampled. Check for overfitting "
   ]
  },
  {
   "cell_type": "markdown",
   "metadata": {},
   "source": [
    "Tuning RF"
   ]
  },
  {
   "cell_type": "code",
   "execution_count": 39,
   "metadata": {},
   "outputs": [],
   "source": [
    "param_grid = {'n_estimators':[100, 200, 300],\n",
    "              'min_samples_leaf':[1, 2, 3]}\n",
    "\n",
    "scoring = {'AUC':'roc_auc'}\n",
    "\n",
    "rf_cv = GridSearchCV(\n",
    "    rf.fitted, param_grid, scoring=scoring, cv=5, n_jobs=4, refit='AUC', verbose=5 \n",
    ")"
   ]
  },
  {
   "cell_type": "code",
   "execution_count": 40,
   "metadata": {},
   "outputs": [
    {
     "name": "stdout",
     "output_type": "stream",
     "text": [
      "Fitting 5 folds for each of 9 candidates, totalling 45 fits\n"
     ]
    },
    {
     "data": {
      "text/html": [
       "<style>#sk-container-id-2 {color: black;}#sk-container-id-2 pre{padding: 0;}#sk-container-id-2 div.sk-toggleable {background-color: white;}#sk-container-id-2 label.sk-toggleable__label {cursor: pointer;display: block;width: 100%;margin-bottom: 0;padding: 0.3em;box-sizing: border-box;text-align: center;}#sk-container-id-2 label.sk-toggleable__label-arrow:before {content: \"▸\";float: left;margin-right: 0.25em;color: #696969;}#sk-container-id-2 label.sk-toggleable__label-arrow:hover:before {color: black;}#sk-container-id-2 div.sk-estimator:hover label.sk-toggleable__label-arrow:before {color: black;}#sk-container-id-2 div.sk-toggleable__content {max-height: 0;max-width: 0;overflow: hidden;text-align: left;background-color: #f0f8ff;}#sk-container-id-2 div.sk-toggleable__content pre {margin: 0.2em;color: black;border-radius: 0.25em;background-color: #f0f8ff;}#sk-container-id-2 input.sk-toggleable__control:checked~div.sk-toggleable__content {max-height: 200px;max-width: 100%;overflow: auto;}#sk-container-id-2 input.sk-toggleable__control:checked~label.sk-toggleable__label-arrow:before {content: \"▾\";}#sk-container-id-2 div.sk-estimator input.sk-toggleable__control:checked~label.sk-toggleable__label {background-color: #d4ebff;}#sk-container-id-2 div.sk-label input.sk-toggleable__control:checked~label.sk-toggleable__label {background-color: #d4ebff;}#sk-container-id-2 input.sk-hidden--visually {border: 0;clip: rect(1px 1px 1px 1px);clip: rect(1px, 1px, 1px, 1px);height: 1px;margin: -1px;overflow: hidden;padding: 0;position: absolute;width: 1px;}#sk-container-id-2 div.sk-estimator {font-family: monospace;background-color: #f0f8ff;border: 1px dotted black;border-radius: 0.25em;box-sizing: border-box;margin-bottom: 0.5em;}#sk-container-id-2 div.sk-estimator:hover {background-color: #d4ebff;}#sk-container-id-2 div.sk-parallel-item::after {content: \"\";width: 100%;border-bottom: 1px solid gray;flex-grow: 1;}#sk-container-id-2 div.sk-label:hover label.sk-toggleable__label {background-color: #d4ebff;}#sk-container-id-2 div.sk-serial::before {content: \"\";position: absolute;border-left: 1px solid gray;box-sizing: border-box;top: 0;bottom: 0;left: 50%;z-index: 0;}#sk-container-id-2 div.sk-serial {display: flex;flex-direction: column;align-items: center;background-color: white;padding-right: 0.2em;padding-left: 0.2em;position: relative;}#sk-container-id-2 div.sk-item {position: relative;z-index: 1;}#sk-container-id-2 div.sk-parallel {display: flex;align-items: stretch;justify-content: center;background-color: white;position: relative;}#sk-container-id-2 div.sk-item::before, #sk-container-id-2 div.sk-parallel-item::before {content: \"\";position: absolute;border-left: 1px solid gray;box-sizing: border-box;top: 0;bottom: 0;left: 50%;z-index: -1;}#sk-container-id-2 div.sk-parallel-item {display: flex;flex-direction: column;z-index: 1;position: relative;background-color: white;}#sk-container-id-2 div.sk-parallel-item:first-child::after {align-self: flex-end;width: 50%;}#sk-container-id-2 div.sk-parallel-item:last-child::after {align-self: flex-start;width: 50%;}#sk-container-id-2 div.sk-parallel-item:only-child::after {width: 0;}#sk-container-id-2 div.sk-dashed-wrapped {border: 1px dashed gray;margin: 0 0.4em 0.5em 0.4em;box-sizing: border-box;padding-bottom: 0.4em;background-color: white;}#sk-container-id-2 div.sk-label label {font-family: monospace;font-weight: bold;display: inline-block;line-height: 1.2em;}#sk-container-id-2 div.sk-label-container {text-align: center;}#sk-container-id-2 div.sk-container {/* jupyter's `normalize.less` sets `[hidden] { display: none; }` but bootstrap.min.css set `[hidden] { display: none !important; }` so we also need the `!important` here to be able to override the default hidden behavior on the sphinx rendered scikit-learn.org. See: https://github.com/scikit-learn/scikit-learn/issues/21755 */display: inline-block !important;position: relative;}#sk-container-id-2 div.sk-text-repr-fallback {display: none;}</style><div id=\"sk-container-id-2\" class=\"sk-top-container\"><div class=\"sk-text-repr-fallback\"><pre>GridSearchCV(cv=5,\n",
       "             estimator=RandomForestClassifier(oob_score=True,\n",
       "                                              random_state=1234),\n",
       "             n_jobs=4,\n",
       "             param_grid={&#x27;min_samples_leaf&#x27;: [1, 2, 3],\n",
       "                         &#x27;n_estimators&#x27;: [100, 200, 300]},\n",
       "             refit=&#x27;AUC&#x27;, scoring={&#x27;AUC&#x27;: &#x27;roc_auc&#x27;}, verbose=5)</pre><b>In a Jupyter environment, please rerun this cell to show the HTML representation or trust the notebook. <br />On GitHub, the HTML representation is unable to render, please try loading this page with nbviewer.org.</b></div><div class=\"sk-container\" hidden><div class=\"sk-item sk-dashed-wrapped\"><div class=\"sk-label-container\"><div class=\"sk-label sk-toggleable\"><input class=\"sk-toggleable__control sk-hidden--visually\" id=\"sk-estimator-id-4\" type=\"checkbox\" ><label for=\"sk-estimator-id-4\" class=\"sk-toggleable__label sk-toggleable__label-arrow\">GridSearchCV</label><div class=\"sk-toggleable__content\"><pre>GridSearchCV(cv=5,\n",
       "             estimator=RandomForestClassifier(oob_score=True,\n",
       "                                              random_state=1234),\n",
       "             n_jobs=4,\n",
       "             param_grid={&#x27;min_samples_leaf&#x27;: [1, 2, 3],\n",
       "                         &#x27;n_estimators&#x27;: [100, 200, 300]},\n",
       "             refit=&#x27;AUC&#x27;, scoring={&#x27;AUC&#x27;: &#x27;roc_auc&#x27;}, verbose=5)</pre></div></div></div><div class=\"sk-parallel\"><div class=\"sk-parallel-item\"><div class=\"sk-item\"><div class=\"sk-label-container\"><div class=\"sk-label sk-toggleable\"><input class=\"sk-toggleable__control sk-hidden--visually\" id=\"sk-estimator-id-5\" type=\"checkbox\" ><label for=\"sk-estimator-id-5\" class=\"sk-toggleable__label sk-toggleable__label-arrow\">estimator: RandomForestClassifier</label><div class=\"sk-toggleable__content\"><pre>RandomForestClassifier(oob_score=True, random_state=1234)</pre></div></div></div><div class=\"sk-serial\"><div class=\"sk-item\"><div class=\"sk-estimator sk-toggleable\"><input class=\"sk-toggleable__control sk-hidden--visually\" id=\"sk-estimator-id-6\" type=\"checkbox\" ><label for=\"sk-estimator-id-6\" class=\"sk-toggleable__label sk-toggleable__label-arrow\">RandomForestClassifier</label><div class=\"sk-toggleable__content\"><pre>RandomForestClassifier(oob_score=True, random_state=1234)</pre></div></div></div></div></div></div></div></div></div></div>"
      ],
      "text/plain": [
       "GridSearchCV(cv=5,\n",
       "             estimator=RandomForestClassifier(oob_score=True,\n",
       "                                              random_state=1234),\n",
       "             n_jobs=4,\n",
       "             param_grid={'min_samples_leaf': [1, 2, 3],\n",
       "                         'n_estimators': [100, 200, 300]},\n",
       "             refit='AUC', scoring={'AUC': 'roc_auc'}, verbose=5)"
      ]
     },
     "execution_count": 40,
     "metadata": {},
     "output_type": "execute_result"
    }
   ],
   "source": [
    "rf_cv.fit(rf.data_onehot, rf.data.buyer)"
   ]
  },
  {
   "cell_type": "code",
   "execution_count": 41,
   "metadata": {},
   "outputs": [
    {
     "data": {
      "text/plain": [
       "{'min_samples_leaf': 3, 'n_estimators': 300}"
      ]
     },
     "execution_count": 41,
     "metadata": {},
     "output_type": "execute_result"
    }
   ],
   "source": [
    "rf_cv.best_params_"
   ]
  },
  {
   "cell_type": "code",
   "execution_count": 42,
   "metadata": {},
   "outputs": [
    {
     "name": "stdout",
     "output_type": "stream",
     "text": [
      "Random Forest\n",
      "Data                 : tuango\n",
      "Response variable    : buyer\n",
      "Level                : yes\n",
      "Explanatory variables: recency, frequency, monetary, age, gender\n",
      "OOB                  : True\n",
      "Model type           : classification\n",
      "Nr. of features      : (5, 7)\n",
      "Nr. of observations  : 14,636\n",
      "max_features         : sqrt (2)\n",
      "n_estimators         : 300\n",
      "min_samples_leaf     : 3\n",
      "random_state         : 1234\n",
      "AUC                  : 0.672\n",
      "\n",
      "Estimation data      :\n",
      " recency  frequency  monetary  age  gender_M  gender_F  gender_O\n",
      "     297        8.0 39.799999   80      True     False     False\n",
      "     295        1.0 72.900002   59     False      True     False\n",
      "     259        1.0 21.000000   43     False      True     False\n",
      "     243        1.0 19.900000   19      True     False     False\n",
      "     216        1.0 40.000000   38     False      True     False\n"
     ]
    }
   ],
   "source": [
    "rf_cv = rsm.model.rforest(\n",
    "    data={\"tuango\": tuango.query(\"training == 1\")},\n",
    "    rvar=\"buyer\",\n",
    "    lev=\"yes\",\n",
    "    evar=evar, \n",
    "    mod_type ='classification',\n",
    "    n_estimators = 300,\n",
    "    min_samples_leaf = 3\n",
    ")\n",
    "rf_cv.summary()"
   ]
  },
  {
   "cell_type": "code",
   "execution_count": 44,
   "metadata": {},
   "outputs": [
    {
     "data": {
      "text/html": [
       "<div>\n",
       "<style scoped>\n",
       "    .dataframe tbody tr th:only-of-type {\n",
       "        vertical-align: middle;\n",
       "    }\n",
       "\n",
       "    .dataframe tbody tr th {\n",
       "        vertical-align: top;\n",
       "    }\n",
       "\n",
       "    .dataframe thead th {\n",
       "        text-align: right;\n",
       "    }\n",
       "</style>\n",
       "<table border=\"1\" class=\"dataframe\">\n",
       "  <thead>\n",
       "    <tr style=\"text-align: right;\">\n",
       "      <th></th>\n",
       "      <th>userid</th>\n",
       "      <th>buyer</th>\n",
       "      <th>ordersize</th>\n",
       "      <th>recency</th>\n",
       "      <th>frequency</th>\n",
       "      <th>monetary</th>\n",
       "      <th>age</th>\n",
       "      <th>gender</th>\n",
       "      <th>music</th>\n",
       "      <th>training</th>\n",
       "      <th>buyer_yes</th>\n",
       "      <th>smsto_all</th>\n",
       "      <th>pred_logit</th>\n",
       "      <th>smsto_logit</th>\n",
       "      <th>pred_nn</th>\n",
       "      <th>pred_rf</th>\n",
       "      <th>pred_nn_cv</th>\n",
       "      <th>pred_rf_cv</th>\n",
       "    </tr>\n",
       "  </thead>\n",
       "  <tbody>\n",
       "    <tr>\n",
       "      <th>0</th>\n",
       "      <td>U15889344</td>\n",
       "      <td>no</td>\n",
       "      <td>0.0</td>\n",
       "      <td>309</td>\n",
       "      <td>7.0</td>\n",
       "      <td>39.799999</td>\n",
       "      <td>44</td>\n",
       "      <td>F</td>\n",
       "      <td>yes</td>\n",
       "      <td>0.0</td>\n",
       "      <td>0</td>\n",
       "      <td>True</td>\n",
       "      <td>0.124875</td>\n",
       "      <td>True</td>\n",
       "      <td>0.124075</td>\n",
       "      <td>0.14</td>\n",
       "      <td>0.197967</td>\n",
       "      <td>0.154083</td>\n",
       "    </tr>\n",
       "    <tr>\n",
       "      <th>1</th>\n",
       "      <td>U60246497</td>\n",
       "      <td>no</td>\n",
       "      <td>0.0</td>\n",
       "      <td>297</td>\n",
       "      <td>8.0</td>\n",
       "      <td>39.799999</td>\n",
       "      <td>80</td>\n",
       "      <td>M</td>\n",
       "      <td>yes</td>\n",
       "      <td>1.0</td>\n",
       "      <td>0</td>\n",
       "      <td>True</td>\n",
       "      <td>0.054452</td>\n",
       "      <td>False</td>\n",
       "      <td>0.050858</td>\n",
       "      <td>0.00</td>\n",
       "      <td>0.017151</td>\n",
       "      <td>0.009637</td>\n",
       "    </tr>\n",
       "  </tbody>\n",
       "</table>\n",
       "</div>"
      ],
      "text/plain": [
       "      userid buyer  ordersize  recency  frequency   monetary  age gender  \\\n",
       "0  U15889344    no        0.0      309        7.0  39.799999   44      F   \n",
       "1  U60246497    no        0.0      297        8.0  39.799999   80      M   \n",
       "\n",
       "  music  training  buyer_yes  smsto_all  pred_logit  smsto_logit   pred_nn  \\\n",
       "0   yes       0.0          0       True    0.124875         True  0.124075   \n",
       "1   yes       1.0          0       True    0.054452        False  0.050858   \n",
       "\n",
       "   pred_rf  pred_nn_cv  pred_rf_cv  \n",
       "0     0.14    0.197967    0.154083  \n",
       "1     0.00    0.017151    0.009637  "
      ]
     },
     "execution_count": 44,
     "metadata": {},
     "output_type": "execute_result"
    }
   ],
   "source": [
    "tuango.head(2)"
   ]
  },
  {
   "cell_type": "code",
   "execution_count": 43,
   "metadata": {},
   "outputs": [],
   "source": [
    "tuango[\"pred_rf_cv\"] = rf_cv.predict(tuango)[\"prediction\"]"
   ]
  },
  {
   "cell_type": "code",
   "execution_count": 46,
   "metadata": {},
   "outputs": [],
   "source": [
    "tuango[\"smsto_nn\"] = tuango.pred_nn > breakeven\n",
    "tuango[\"smsto_rf\"] = tuango.pred_rf > breakeven\n",
    "tuango[\"smsto_nn_cv\"] = tuango.pred_nn_cv > breakeven\n",
    "tuango[\"smsto_rf_cv\"] = tuango.pred_rf_cv > breakeven\n"
   ]
  },
  {
   "cell_type": "code",
   "execution_count": 47,
   "metadata": {},
   "outputs": [
    {
     "name": "stdout",
     "output_type": "stream",
     "text": [
      "\n",
      "- Based on logistic regression the number of customers Tuango should sms is 147,800 (59.12%\n",
      "- The response rate for the selected customers is predicted to be (12.30%) or 18,186 buyers \n",
      "- The expected profit is $946,827\n",
      "- The sms cost is estimated to be RMB1,773,597 with a ROME of 53.38%\n",
      "\n"
     ]
    }
   ],
   "source": [
    "dat = tuango.query(\"training == 0\")\n",
    "perc_sms = dat.smsto_logit.mean()\n",
    "nr_sms = nr_cust * perc_sms\n",
    "resp_rate = dat.loc[dat.smsto_nn, \"buyer_yes\"].mean()\n",
    "nr_resp = nr_sms * resp_rate\n",
    "sms_cost = mcost * nr_sms\n",
    "profit_nn = margin * nr_resp - sms_cost\n",
    "ROME_nn = profit_nn / sms_cost\n",
    "\n",
    "result = f\"\"\"\n",
    "- Based on logistic regression the number of customers Tuango should sms is {nr_sms:,.0f} ({(100 * perc_sms):,.2f}%\n",
    "- The response rate for the selected customers is predicted to be ({(100 *resp_rate):.2f}%) or {nr_resp:,.0f} buyers \n",
    "- The expected profit is ${profit_logit:,.0f}\n",
    "- The sms cost is estimated to be RMB{sms_cost:,.0f} with a ROME of {(100 * ROME_logit):.2f}%\n",
    "\"\"\"\n",
    "\n",
    "print(result)"
   ]
  },
  {
   "cell_type": "code",
   "execution_count": 48,
   "metadata": {},
   "outputs": [
    {
     "name": "stdout",
     "output_type": "stream",
     "text": [
      "\n",
      "- Based on logistic regression the number of customers Tuango should sms is 147,800 (59.12%\n",
      "- The response rate for the selected customers is predicted to be (14.53%) or 21,469 buyers \n",
      "- The expected profit is $946,827\n",
      "- The sms cost is estimated to be RMB1,773,597 with a ROME of 53.38%\n",
      "\n"
     ]
    }
   ],
   "source": [
    "dat = tuango.query(\"training == 0\")\n",
    "perc_sms = dat.smsto_logit.mean()\n",
    "nr_sms = nr_cust * perc_sms\n",
    "resp_rate = dat.loc[dat.smsto_rf, \"buyer_yes\"].mean()\n",
    "nr_resp = nr_sms * resp_rate\n",
    "sms_cost = mcost * nr_sms\n",
    "profit_rf = margin * nr_resp - sms_cost\n",
    "ROME_rf = profit_rf / sms_cost\n",
    "\n",
    "result = f\"\"\"\n",
    "- Based on logistic regression the number of customers Tuango should sms is {nr_sms:,.0f} ({(100 * perc_sms):,.2f}%\n",
    "- The response rate for the selected customers is predicted to be ({(100 *resp_rate):.2f}%) or {nr_resp:,.0f} buyers \n",
    "- The expected profit is ${profit_logit:,.0f}\n",
    "- The sms cost is estimated to be RMB{sms_cost:,.0f} with a ROME of {(100 * ROME_logit):.2f}%\n",
    "\"\"\"\n",
    "\n",
    "print(result)"
   ]
  },
  {
   "cell_type": "code",
   "execution_count": 49,
   "metadata": {},
   "outputs": [
    {
     "name": "stdout",
     "output_type": "stream",
     "text": [
      "\n",
      "- Based on logistic regression the number of customers Tuango should sms is 147,800 (59.12%\n",
      "- The response rate for the selected customers is predicted to be (14.81%) or 21,894 buyers \n",
      "- The expected profit is $946,827\n",
      "- The sms cost is estimated to be RMB1,773,597 with a ROME of 53.38%\n",
      "\n"
     ]
    }
   ],
   "source": [
    "dat = tuango.query(\"training == 0\")\n",
    "perc_sms = dat.smsto_logit.mean()\n",
    "nr_sms = nr_cust * perc_sms\n",
    "resp_rate = dat.loc[dat.smsto_rf_cv, \"buyer_yes\"].mean()\n",
    "nr_resp = nr_sms * resp_rate\n",
    "sms_cost = mcost * nr_sms\n",
    "profit_rfcv = margin * nr_resp - sms_cost\n",
    "ROME_rfcv = profit_rfcv / sms_cost\n",
    "\n",
    "result = f\"\"\"\n",
    "- Based on logistic regression the number of customers Tuango should sms is {nr_sms:,.0f} ({(100 * perc_sms):,.2f}%\n",
    "- The response rate for the selected customers is predicted to be ({(100 *resp_rate):.2f}%) or {nr_resp:,.0f} buyers \n",
    "- The expected profit is ${profit_logit:,.0f}\n",
    "- The sms cost is estimated to be RMB{sms_cost:,.0f} with a ROME of {(100 * ROME_logit):.2f}%\n",
    "\"\"\"\n",
    "\n",
    "print(result)"
   ]
  },
  {
   "cell_type": "code",
   "execution_count": 50,
   "metadata": {},
   "outputs": [
    {
     "name": "stdout",
     "output_type": "stream",
     "text": [
      "\n",
      "- Based on logistic regression the number of customers Tuango should sms is 147,800 (59.12%\n",
      "- The response rate for the selected customers is predicted to be (14.39%) or 21,276 buyers \n",
      "- The expected profit is $946,827\n",
      "- The sms cost is estimated to be RMB1,773,597 with a ROME of 53.38%\n",
      "\n"
     ]
    }
   ],
   "source": [
    "dat = tuango.query(\"training == 0\")\n",
    "perc_sms = dat.smsto_logit.mean()\n",
    "nr_sms = nr_cust * perc_sms\n",
    "resp_rate = dat.loc[dat.smsto_nn_cv, \"buyer_yes\"].mean()\n",
    "nr_resp = nr_sms * resp_rate\n",
    "sms_cost = mcost * nr_sms\n",
    "profit_nncv = margin * nr_resp - sms_cost\n",
    "ROME_nncv = profit_nncv / sms_cost\n",
    "\n",
    "result = f\"\"\"\n",
    "- Based on logistic regression the number of customers Tuango should sms is {nr_sms:,.0f} ({(100 * perc_sms):,.2f}%\n",
    "- The response rate for the selected customers is predicted to be ({(100 *resp_rate):.2f}%) or {nr_resp:,.0f} buyers \n",
    "- The expected profit is ${profit_logit:,.0f}\n",
    "- The sms cost is estimated to be RMB{sms_cost:,.0f} with a ROME of {(100 * ROME_logit):.2f}%\n",
    "\"\"\"\n",
    "\n",
    "print(result)"
   ]
  },
  {
   "cell_type": "markdown",
   "metadata": {},
   "source": [
    "## Performance bar charts"
   ]
  },
  {
   "cell_type": "code",
   "execution_count": 51,
   "metadata": {},
   "outputs": [
    {
     "data": {
      "image/png": "[encoded data removed]",
      "text/plain": [
       "<Figure size 640x480 with 1 Axes>"
      ]
     },
     "metadata": {},
     "output_type": "display_data"
    }
   ],
   "source": [
    "# Updating profit and ROME plots:\n",
    "dat = pd.DataFrame(\n",
    "    {\n",
    "        \"name\": [\n",
    "            \"No targeting\",\n",
    "            \"Logit\",\n",
    "            \"NN\",\n",
    "            \"NN CV AUC\",\n",
    "            \"RF\",\n",
    "            \"RF CV AUC\"\n",
    "        ],\n",
    "        \"Profit\": [\n",
    "            profit_nt,\n",
    "            profit_logit,\n",
    "            profit_nn,\n",
    "            profit_nncv,\n",
    "            profit_rf,\n",
    "            profit_rfcv\n",
    "\n",
    "        ],\n",
    "        \"ROME\": [ROME_nt, ROME_logit, ROME_nn, ROME_nncv, ROME_rf, ROME_rfcv],\n",
    "    }\n",
    ")\n",
    "\n",
    "plt.clf()\n",
    "fig = sns.barplot(x=\"name\", y=\"Profit\", color=\"slateblue\", data=dat)\n",
    "fig.set(xlabel=\"\", ylabel=\"Campaign profit\")\n",
    "for index, row in dat.iterrows():\n",
    "    fig.text(\n",
    "        row.name, row.Profit - 60_000, f\"{int(row.Profit):,}\", ha=\"center\", color=\"white\"\n",
    "    )\n",
    "plt.show()"
   ]
  },
  {
   "cell_type": "code",
   "execution_count": 52,
   "metadata": {},
   "outputs": [
    {
     "data": {
      "image/png": "[encoded data removed]",
      "text/plain": [
       "<Figure size 640x480 with 1 Axes>"
      ]
     },
     "metadata": {},
     "output_type": "display_data"
    }
   ],
   "source": [
    "plt.clf()\n",
    "fig = sns.barplot(x=\"name\", y=\"ROME\", color=\"slateblue\", data=dat)\n",
    "fig.set(xlabel=\"\", ylabel=\"Return on Marketing Expenditures (ROME)\")\n",
    "for index, row in dat.iterrows():\n",
    "    fig.text(\n",
    "        row.name,\n",
    "        row.ROME - 0.05,\n",
    "        f\"{round((100*row.ROME), 2):,}%\",\n",
    "        ha=\"center\",\n",
    "        color=\"white\",\n",
    "    )\n",
    "plt.show()"
   ]
  },
  {
   "cell_type": "code",
   "execution_count": null,
   "metadata": {},
   "outputs": [],
   "source": []
  }
 ],
 "metadata": {
  "kernelspec": {
   "display_name": "Python 3",
   "language": "python",
   "name": "python3"
  },
  "language_info": {
   "codemirror_mode": {
    "name": "ipython",
    "version": 3
   },
   "file_extension": ".py",
   "mimetype": "text/x-python",
   "name": "python",
   "nbconvert_exporter": "python",
   "pygments_lexer": "ipython3",
   "version": "3.11.7"
  }
 },
 "nbformat": 4,
 "nbformat_minor": 4
}
